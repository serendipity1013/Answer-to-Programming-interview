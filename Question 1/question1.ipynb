{
 "cells": [
  {
   "cell_type": "code",
   "execution_count": 1,
   "metadata": {},
   "outputs": [
    {
     "name": "stdout",
     "output_type": "stream",
     "text": [
      "[('[1 1 1 0 0 0]', 13), ('[1 1 0 1 0 0]', 14), ('[1 0 1 1 0 0]', 15), ('[1 1 0 0 1 0]', 15), ('[0 1 1 1 0 0]', 16), ('[1 0 1 0 1 0]', 16), ('[1 1 0 0 0 1]', 16), ('[0 1 1 0 1 0]', 17), ('[1 0 0 1 1 0]', 17), ('[1 0 1 0 0 1]', 17), ('[0 1 0 1 1 0]', 18), ('[0 1 1 0 0 1]', 18), ('[1 0 0 1 0 1]', 18), ('[0 0 1 1 1 0]', 19), ('[0 1 0 1 0 1]', 19), ('[1 0 0 0 1 1]', 19), ('[0 0 1 1 0 1]', 20), ('[0 1 0 0 1 1]', 20), ('[0 0 1 0 1 1]', 21), ('[0 0 0 1 1 1]', 22)]\n",
      "The respective operations are: dict_items([('[0 0 1 1 1 0]', 19), ('[0 1 0 1 0 1]', 19), ('[0 1 1 1 0 0]', 16), ('[1 0 0 0 1 1]', 19), ('[1 0 1 0 1 0]', 16), ('[1 1 0 0 0 1]', 16), ('[1 1 1 0 0 0]', 13)])\n"
     ]
    }
   ],
   "source": [
    "import numpy as np\n",
    "import itertools\n",
    "\n",
    "\n",
    "## method 1: testing for all permutation of path, then find the desired sum\n",
    "## the method cannot process a large set of data\n",
    "def q1method1(rows, cols, select_sum):\n",
    "    if rows*cols == 0:\n",
    "        print(\"Please enter a non-empty matrix size.\")\n",
    "        return 0\n",
    "    mat = np.arange(1,rows+1).repeat(cols).reshape(rows,cols)\n",
    "    empty_mat = np.zeros((rows, cols))\n",
    "    empty_mat[0][0]= mat[0][0]\n",
    "\n",
    "    # indexs of path: denotes 1 for right(R), 0 for down(D)\n",
    "    paths = np.hstack((np.arange(1).repeat(rows-1),np.arange(1).repeat(cols-1)+1))\n",
    "    for a in itertools.permutations(paths):\n",
    "        paths = np.vstack((paths,a))\n",
    "    paths = np.unique(paths,axis=0) # remove duplicates\n",
    "    \n",
    "    # walk the path\n",
    "    summ = np.zeros(len(paths),dtype=np.int) # calculate the sum\n",
    "    c = 0\n",
    "    for b in paths:\n",
    "        x, y = 0, 0 # use x and y to denote the current point\n",
    "        for i in b:\n",
    "            if i == 0: # go down\n",
    "                x += 1\n",
    "            else: \n",
    "                y += 1\n",
    "            empty_mat[x][y] = mat[x][y]\n",
    "        summ[c] = int(empty_mat.sum())\n",
    "        #print(' Path:\\n', empty_mat, '\\n Sum:', summ[c]) # you can check by print\n",
    "        \n",
    "        empty_mat = np.zeros((rows, cols))\n",
    "        empty_mat[0][0]= mat[0][0]\n",
    "        c += 1\n",
    "    \n",
    "    # select paths\n",
    "    paths = ','.join(map(str, paths))\n",
    "    paths = paths.split(',') \n",
    "    dic = dict(zip(paths, summ)) # comput dictionary\n",
    "    print(sorted(dic.items(), key=lambda x:x[1]) )\n",
    "\n",
    "    select_dic = {k: v for k, v in dic.items() if v in select_sum}\n",
    "    print('The respective operations are:',select_dic.items())\n",
    "    return select_dic\n",
    "    \n",
    "        \n",
    "# test run\n",
    "result = q1method1(rows=4, cols=4, select_sum=[13,16,19])\n",
    "## however, this method takes too much time to process for a large matrix"
   ]
  },
  {
   "cell_type": "raw",
   "metadata": {},
   "source": [
    "An over view of the output from 4*4 matrix:\n",
    "13 [1 1 1 0 0 0]\n",
    "14 [1 1 0 1 0 0]\n",
    "15 [1 0 1 1 0 0] [1 1 0 0 1 0]\n",
    "16 [0 1 1 1 0 0] [1 0 1 0 1 0] [1 1 0 0 0 1]\n",
    "17 [0 1 1 0 1 0] [1 0 0 1 1 0] [1 0 1 0 0 1]\n",
    "18 [0 1 0 1 1 0] [0 1 1 0 0 1] [1 0 0 1 0 1]\n",
    "19 [0 0 1 1 1 0] [0 1 0 1 0 1] [1 0 0 0 1 1]\n",
    "20 [0 0 1 1 0 1] [0 1 0 0 1 1]\n",
    "21 [0 0 1 0 1 1]\n",
    "22 [0 0 0 1 1 1] "
   ]
  },
  {
   "cell_type": "markdown",
   "metadata": {},
   "source": [
    "Some explaination:\n",
    "In the case for 4 by 4 matrix, from the result we can see the sum gradually increase by 1 or even 0 from 1*3+2+3+4=13(going right till reach the end then go down) to 1+2+3+4*3=22(going down till reach the end then go right).\n",
    "Following the same logic, in the case of m=9, n=9 matrix, the summ is ranging from 1*9+2+3+...+9=53(RRRRRRRRDDDDDDDD) to 1+2+3+...+8+9*9=117(DDDDDDDDRRRRRRRR).\n",
    "In addition, according to the property of this type of matrix, if the path go down from 1 in ith value, then going down till the bottom, the total sum will increase by (9-1)*(9-i) (i.e. RRRRRRRDDDDDDDDR), when the final right turn set as higher position, it will decrease by 1 (i.e. RRRRRRRDDDDDDDRD). \n"
   ]
  },
  {
   "cell_type": "code",
   "execution_count": 2,
   "metadata": {},
   "outputs": [],
   "source": [
    "# Given that the method 1 required huge computation and calculation, a new method is designed according to the above pattern\n",
    "import numpy as np\n",
    "\n",
    "data = open('output_question_1.txt','w+')\n",
    "    \n",
    "def q1method2(rows, cols, select_sum):\n",
    "    base = \"R\"*(cols-1) + \"D\"*(rows-1) # 1 go right and 0 go down\n",
    "    n = cols+rows-2\n",
    "    \n",
    "    paths = np.hstack((np.arange(1).repeat(cols-1),np.arange(1).repeat(rows-1)+1))\n",
    "    minpaths = np.sum(np.cumsum(np.hstack((1,paths))),dtype=np.int64)\n",
    "    index = minpaths\n",
    "    result = {index:[base]}\n",
    "    while (1):\n",
    "        for answer in result[index]:\n",
    "            for i in range(n-1):\n",
    "                if answer[i] == \"R\":\n",
    "                    if answer[i+1] == \"D\":\n",
    "                        if i < n-2:\n",
    "                            newanswer = answer[:i] + \"DR\" + answer[i+2:]\n",
    "                        else:\n",
    "                            newanswer = answer[:i] + \"DR\" \n",
    "\n",
    "                        if (index+1) not in result.keys():\n",
    "                            result[index+1] = [newanswer]\n",
    "                        else:\n",
    "                            result[index+1] = result[index+1] + [newanswer]\n",
    "        if index+1 not in result.keys():\n",
    "            break                  \n",
    "        result[index+1] = list(set(result[index+1]))\n",
    "        if index in select_sum:\n",
    "            for j in result[index]:\n",
    "                print(str(index)+' '+str(j),file=data)\n",
    "        index += 1\n",
    "        if index> max(select_sum): break\n",
    "    return result, minpaths\n",
    "\n",
    "#result,minpaths = q1method2(rows=4, cols=4, select_sum=[13,16])"
   ]
  },
  {
   "cell_type": "code",
   "execution_count": 3,
   "metadata": {},
   "outputs": [],
   "source": [
    "resulta = q1method2(rows=9, cols=9, select_sum=[65,72,91,110])\n",
    "#data = open('output_question_1.txt','w+')\n",
    "#for a,b in resulta:\n",
    "#    print(str(b)+' '+str(a), file = data)"
   ]
  },
  {
   "cell_type": "code",
   "execution_count": 4,
   "metadata": {},
   "outputs": [],
   "source": [
    "# question b: \n",
    "# since D...DR...R will have the largest sum and R...RD...D will have the smallest sum\n",
    "# the sum will be within 4050144999 to 14999950000, while 87127231192>14999950000, so there is no path for it\n",
    "# since path D...D(10527)R...R(89472),D...D(89999) has sum 5994850344\n",
    "#       path D...D(10528)R...R(89471),D...D(89999) has sum 5995029815\n",
    "# to reduce combination, we limited the permutaion to the last 189998-10527 moves\n",
    "    \n",
    "def q1method2modified(rows, cols, select_sum):\n",
    "    base = \"D\"*10527+\"R\"*(cols-1) + \"D\"*(rows-10527-1) # 1 go right and 0 go down\n",
    "    n = cols+rows-2\n",
    "    \n",
    "    paths = np.hstack(np.arange(1).repeat(10527)+1,np.arange(1).repeat(cols-1),np.arange(1).repeat(rows-10527-1)+1)\n",
    "    minpaths = np.sum(np.cumsum(np.hstack((1,paths))),dtype=np.int64)\n",
    "    index = minpaths\n",
    "    result = {index:[base]}\n",
    "    while (1):\n",
    "        for answer in result[index]:\n",
    "            for i in range(n-1):\n",
    "                if answer[i] == \"R\":\n",
    "                    if answer[i+1] == \"D\":\n",
    "                        if i < n-2:\n",
    "                            newanswer = answer[:i] + \"DR\" + answer[i+2:]\n",
    "                        else:\n",
    "                            newanswer = answer[:i] + \"DR\" \n",
    "\n",
    "                        if (index+1) not in result.keys():\n",
    "                            result[index+1] = [newanswer]\n",
    "                        else:\n",
    "                            result[index+1] = result[index+1] + [newanswer]\n",
    "        if index+1 not in result.keys():\n",
    "            break                  \n",
    "        result[index+1] = list(set(result[index+1]))\n",
    "        if index in select_sum:\n",
    "            for j in result[index+1]:\n",
    "                print(str(index)+' '+str(j),file=data)\n",
    "        index += 1\n",
    "        if index> max(select_sum): break\n",
    "    return result, minpaths\n"
   ]
  },
  {
   "cell_type": "code",
   "execution_count": null,
   "metadata": {},
   "outputs": [],
   "source": [
    "print('\\n', file=data)\n",
    "\n",
    "resultb = q1method2(rows=90000, cols=100000, select_sum=[5994891682,87127231192])"
   ]
  },
  {
   "cell_type": "code",
   "execution_count": null,
   "metadata": {},
   "outputs": [],
   "source": [
    "# above two methods are applicable for question 2, \n",
    "# but due to limited calculation power, the result cannot yet been computed\n",
    "# By mathematical calculation, we is clear that:\n",
    "# There is no path for 87127231192;\n",
    "# D...D(10527)R...R(89471)D...D(48661)RD...D(89998) \n",
    "# and D...D(10528)R...R(89471),D...D(39134)RD...DRD...D(89997) \n",
    "# are paths for 5994891682"
   ]
  }
 ],
 "metadata": {
  "kernelspec": {
   "display_name": "Python 3",
   "language": "python",
   "name": "python3"
  },
  "language_info": {
   "codemirror_mode": {
    "name": "ipython",
    "version": 3
   },
   "file_extension": ".py",
   "mimetype": "text/x-python",
   "name": "python",
   "nbconvert_exporter": "python",
   "pygments_lexer": "ipython3",
   "version": "3.7.7"
  }
 },
 "nbformat": 4,
 "nbformat_minor": 4
}
