{
 "cells": [
  {
   "cell_type": "code",
   "execution_count": 1,
   "metadata": {},
   "outputs": [],
   "source": [
    "def getneighbor1(mat,a, b):\n",
    "    neighbor1 = []\n",
    "    candidates = []\n",
    "    if a<len(mat)-1:\n",
    "        candidates = candidates + [(a+1, b)]\n",
    "    if b<len(mat[1])-1:\n",
    "        candidates = candidates + [(a, b+1)]\n",
    "    if a>0:\n",
    "        candidates = candidates + [(a-1, b)]\n",
    "    if b>0:\n",
    "        candidates = candidates + [(a, b-1)]\n",
    "    for point in candidates:\n",
    "        if mat[point[0]][point[1]] == 0:\n",
    "            neighbor1 = [point] + neighbor1 \n",
    "            \n",
    "    return neighbor1\n",
    "\n",
    "import numpy as np\n",
    "\n",
    "\n",
    "def question4(matrix):\n",
    "    currentclusterlable = 1\n",
    "    ylen = len(input_mat)\n",
    "    xlen = len(input_mat[0])\n",
    "    for i in range(ylen):\n",
    "        for j in range(xlen):\n",
    "            if matrix[i][j] == 0:\n",
    "                matrix[i][j] = currentclusterlable\n",
    "                currentclustermember = []\n",
    "                currentclustermember = getneighbor1(matrix, i, j) \n",
    "                while(1):\n",
    "                    if len(currentclustermember) == 0:\n",
    "                        break\n",
    "                    currentpoint =  currentclustermember.pop()\n",
    "                    matrix[currentpoint[0]][currentpoint[1]] = currentclusterlable\n",
    "                    currentclustermember = getneighbor1(result, currentpoint[0],currentpoint[1]) + currentclustermember\n",
    "                currentclusterlable += 1\n",
    "\n",
    "    for i in range(ylen):\n",
    "        for j in range(xlen):\n",
    "            if matrix[i][j] == -1:\n",
    "                matrix[i][j] = 0\n",
    "    return matrix"
   ]
  },
  {
   "cell_type": "code",
   "execution_count": 2,
   "metadata": {},
   "outputs": [
    {
     "data": {
      "text/plain": [
       "array([[ 0.,  0.,  0.,  0.,  1.,  1.,  0.,  0.,  0.,  2.,  0.,  3.,  0.,\n",
       "         4.,  4.,  4.,  0.,  0.,  5.,  5.],\n",
       "       [ 6.,  0.,  7.,  0.,  0.,  0.,  0.,  0.,  2.,  2.,  0.,  0.,  0.,\n",
       "         0.,  4.,  0.,  0.,  8.,  0.,  0.],\n",
       "       [ 0.,  7.,  7.,  7.,  7.,  7.,  7.,  0.,  2.,  0.,  9.,  0., 10.,\n",
       "         0.,  0.,  0.,  0.,  0., 11.,  0.],\n",
       "       [ 0.,  0.,  0.,  0.,  7.,  7.,  0.,  0.,  0.,  0.,  9.,  0.,  0.,\n",
       "         0., 11., 11., 11.,  0., 11., 11.],\n",
       "       [12.,  0.,  0., 12.,  0.,  0.,  0.,  0.,  0.,  0.,  9.,  9.,  9.,\n",
       "         0., 11., 11., 11.,  0., 11., 11.],\n",
       "       [12., 12., 12., 12.,  0., 13.,  0.,  0.,  0.,  0.,  0.,  0.,  0.,\n",
       "        14.,  0.,  0., 11., 11.,  0., 11.],\n",
       "       [12., 12.,  0.,  0.,  0.,  0., 15.,  0.,  0.,  0.,  0., 16., 16.,\n",
       "         0.,  0.,  0.,  0., 11.,  0., 11.],\n",
       "       [ 0., 12.,  0.,  0.,  0., 15., 15.,  0.,  0.,  0.,  0., 16., 16.,\n",
       "         0.,  0.,  0.,  0., 11., 11., 11.],\n",
       "       [ 0.,  0., 17., 17., 17.,  0.,  0., 18.,  0., 18.,  0.,  0., 16.,\n",
       "         0.,  0.,  0., 11., 11., 11.,  0.],\n",
       "       [19.,  0., 17.,  0., 17.,  0., 18., 18., 18., 18.,  0.,  0., 16.,\n",
       "         0., 20.,  0.,  0.,  0.,  0., 21.]])"
      ]
     },
     "execution_count": 2,
     "metadata": {},
     "output_type": "execute_result"
    }
   ],
   "source": [
    "import numpy as np\n",
    "input_mat = np.loadtxt(open(\"input_question_4.csv\",\"rb\"),delimiter=\",\",skiprows=0) \n",
    "result = input_mat-1\n",
    "output = question4(result)\n",
    "output"
   ]
  },
  {
   "cell_type": "code",
   "execution_count": 4,
   "metadata": {},
   "outputs": [],
   "source": [
    "data = open('output_question_4.txt','w+')\n",
    "for p in output:\n",
    "    for i in p:\n",
    "        print(str(int(i))+' ',end='', file=data) \n",
    "    print('', file=data)"
   ]
  },
  {
   "cell_type": "code",
   "execution_count": null,
   "metadata": {},
   "outputs": [],
   "source": []
  }
 ],
 "metadata": {
  "kernelspec": {
   "display_name": "Python 3",
   "language": "python",
   "name": "python3"
  },
  "language_info": {
   "codemirror_mode": {
    "name": "ipython",
    "version": 3
   },
   "file_extension": ".py",
   "mimetype": "text/x-python",
   "name": "python",
   "nbconvert_exporter": "python",
   "pygments_lexer": "ipython3",
   "version": "3.7.3"
  }
 },
 "nbformat": 4,
 "nbformat_minor": 2
}
