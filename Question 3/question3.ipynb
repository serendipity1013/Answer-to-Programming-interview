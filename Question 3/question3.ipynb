{
 "cells": [
  {
   "cell_type": "code",
   "execution_count": 1,
   "metadata": {},
   "outputs": [
    {
     "data": {
      "text/plain": [
       "((10000, 3),\n",
       " array([0.39963372, 0.56871201, 0.24828589, ..., 0.44945629, 0.29707587,\n",
       "        0.40522171]),\n",
       " array([[0.69138267, 0.64037062, 0.395866  ],\n",
       "        [0.07746335, 0.98175382, 0.48178561],\n",
       "        [0.84186331, 0.98647738, 0.20171801],\n",
       "        ...,\n",
       "        [0.09301312, 0.10306765, 0.34412992],\n",
       "        [0.3758485 , 0.73448137, 0.14542384],\n",
       "        [0.76368126, 0.16907216, 0.70477935]]))"
      ]
     },
     "execution_count": 1,
     "metadata": {},
     "output_type": "execute_result"
    }
   ],
   "source": [
    "import numpy as np\n",
    "X_train = np.loadtxt(\"train_data.txt\",skiprows=1)\n",
    "y_train = np.loadtxt(\"train_truth.txt\",skiprows=1) \n",
    "X_test = np.loadtxt(\"test_data.txt\",skiprows=1)\n",
    "np.shape(X_train),y_train,X_test"
   ]
  },
  {
   "cell_type": "code",
   "execution_count": 2,
   "metadata": {},
   "outputs": [],
   "source": [
    "#from keras.datasets import boston_housing\n",
    "from keras import models\n",
    "from keras import layers\n",
    " \n",
    "#(X_train, y_train), (X_test, y_test) = boston_housing.load_data()#加载数据\n",
    " \n",
    "#data preprocessing\n",
    "mean = X_train.mean(axis=0)\n",
    "X_train -= mean\n",
    "std = X_train.std(axis=0)\n",
    "X_train /= std\n",
    "X_test -= mean\n",
    "X_test /= std\n",
    " \n",
    "#build the neural network model\n",
    "def build_model():\n",
    "    #]Sequential model\n",
    "    model = models.Sequential()\n",
    "    #Build by layers\n",
    "    model.add(layers.Dense(10, activation='relu',input_shape=(X_train.shape[1],)))\n",
    "    model.add(layers.Dense(10, activation='relu'))\n",
    "    model.add(layers.Dense(1))\n",
    "    #Compile\n",
    "    model.compile(optimizer='rmsprop', loss='mse', metrics=['mae'])\n",
    "    return model\n",
    " \n",
    "num_epochs = 100\n",
    "model = build_model()\n",
    "model.fit(X_train, y_train,epochs=num_epochs, batch_size=1, verbose=0)\n",
    "predicts = model.predict(X_test)"
   ]
  },
  {
   "cell_type": "code",
   "execution_count": null,
   "metadata": {},
   "outputs": [],
   "source": [
    "#data = open('test_predicted.txt','w+')\n",
    "#print('y',file=data)\n",
    "#for p in predicts:\n",
    "#    print(float(p), file=data)"
   ]
  },
  {
   "cell_type": "code",
   "execution_count": null,
   "metadata": {},
   "outputs": [],
   "source": []
  },
  {
   "cell_type": "code",
   "execution_count": null,
   "metadata": {},
   "outputs": [],
   "source": []
  }
 ],
 "metadata": {
  "kernelspec": {
   "display_name": "Python 3",
   "language": "python",
   "name": "python3"
  },
  "language_info": {
   "codemirror_mode": {
    "name": "ipython",
    "version": 3
   },
   "file_extension": ".py",
   "mimetype": "text/x-python",
   "name": "python",
   "nbconvert_exporter": "python",
   "pygments_lexer": "ipython3",
   "version": "3.7.7"
  }
 },
 "nbformat": 4,
 "nbformat_minor": 4
}
