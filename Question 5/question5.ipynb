{
 "cells": [
  {
   "cell_type": "code",
   "execution_count": 1,
   "metadata": {},
   "outputs": [],
   "source": [
    "import numpy as np\n",
    "\n",
    "def color(remain, colors, L): \n",
    "    grid = [[0 for i in range(L)] for i in range(L)] \n",
    "    P = 0\n",
    "    for i in range(L):\n",
    "        for j in range(L):\n",
    "            neighbor = []\n",
    "            if i-1 >= 0:\n",
    "                neighbor = neighbor + [grid[i-1][j]]\n",
    "            if j-1 >= 0:\n",
    "                neighbor = neighbor + [grid[i][j-1]]\n",
    "            candidate = []\n",
    "            for color in colors:\n",
    "                if color not in neighbor:\n",
    "                    candidate = candidate + [color]\n",
    "            maxremain = 0\n",
    "            keep = \"\"\n",
    "            for candidatecolor in candidate:\n",
    "                if remain[candidatecolor] > maxremain:\n",
    "                    maxremain = remain[candidatecolor]\n",
    "                    keep = candidatecolor\n",
    "\n",
    "            if keep != \"\":\n",
    "                remain[keep] = remain[keep] - 1\n",
    "                grid[i][j] =  keep\n",
    "            else:\n",
    "                for candidatecolor in neighbor:\n",
    "                    if remain[candidatecolor] > maxremain:\n",
    "                        maxremain = remain[candidatecolor]\n",
    "                        keep = candidatecolor \n",
    "                remain[keep] = remain[keep] - 1\n",
    "                grid[i][j] =  keep\n",
    "                P += 1\n",
    "    return grid\n",
    "\n",
    "\n",
    "#question 1\n",
    "remain = {\"R\":12, \"B\":13} \n",
    "colors = [\"R\",\"B\"]\n",
    "L = 5\n",
    "result1 = color(remain, colors, L)\n",
    "\n",
    "#question 2\n",
    "remain2 = {\"R\":139, \"B\":1471, \"G\":977,\"W\":1072, \"Y\":457} \n",
    "colors2 = [\"R\",\"B\",\"G\",\"W\",\"Y\"]\n",
    "L2 = 64\n",
    "result2 = color(remain2, colors2, L2)"
   ]
  },
  {
   "cell_type": "code",
   "execution_count": 4,
   "metadata": {},
   "outputs": [],
   "source": [
    "data = open('output_question_5_1.txt','w+')\n",
    "for p in range(L):    \n",
    "    for i in result1[p]:\n",
    "        print(str(i)+' ',end='', file=data) \n",
    "    print('', file=data)"
   ]
  },
  {
   "cell_type": "code",
   "execution_count": 3,
   "metadata": {},
   "outputs": [],
   "source": [
    "#data2 = open('output_question_5_2.txt','w+')\n",
    "#for p in range(L2):    \n",
    "#    for i in result2[p]:\n",
    "#        print(str(i)+' ',end='', file=data2) \n",
    "#    print('', file=data2)"
   ]
  },
  {
   "cell_type": "code",
   "execution_count": null,
   "metadata": {},
   "outputs": [],
   "source": []
  }
 ],
 "metadata": {
  "kernelspec": {
   "display_name": "Python 3",
   "language": "python",
   "name": "python3"
  },
  "language_info": {
   "codemirror_mode": {
    "name": "ipython",
    "version": 3
   },
   "file_extension": ".py",
   "mimetype": "text/x-python",
   "name": "python",
   "nbconvert_exporter": "python",
   "pygments_lexer": "ipython3",
   "version": "3.7.3"
  }
 },
 "nbformat": 4,
 "nbformat_minor": 2
}
