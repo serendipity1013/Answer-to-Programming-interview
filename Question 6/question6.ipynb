{
 "cells": [
  {
   "cell_type": "code",
   "execution_count": 1,
   "metadata": {},
   "outputs": [],
   "source": [
    "import numpy as np\n",
    "\n",
    "def ifinrectangular(point,vertex_lst:list, contain_boundary=True):\n",
    "    # check if inside the rectangular\n",
    "    # we choose the point with coordinate to form a rectangular that covers the polygon\n",
    "    # if the point is out side this rectangular, it must be out side the polygon\n",
    "    yaxis, xaxis = zip(*vertex_lst)\n",
    "    miny, maxy = min(yaxis),max(yaxis)\n",
    "    minx, maxx = min(xaxis),max(xaxis)\n",
    "    x, y = point\n",
    "    if contain_boundary:      \n",
    "        isin = (miny<=y<=maxy) & (minx<=x<=maxx)\n",
    "    else:\n",
    "        isin = (miny<y<maxy) & (miny<lat<maxy)\n",
    "    return isin\n",
    "\n",
    "def ifintersect(poi,spoi,epoi): # our object point, the begin of the line, and the end of the line\n",
    "    x, y = poi\n",
    "    sx, sy = spoi\n",
    "    ex, ey = epoi\n",
    "    if poi.all() == spoi.all():\n",
    "        #print(\"vertex\")\n",
    "        return None\n",
    "    if sx==ex: # rule out parallel and coincident with the ray, the first and last endpoints of the line segment coincide\n",
    "        return False\n",
    "    if sy>y and ey>y: # above the line\n",
    "        return False\n",
    "    if sy<y and ey<y: # below the line\n",
    "        return False\n",
    "    if sy==y and ey>y: # intersect at the above line，spoint\n",
    "        return False\n",
    "    if ey==y and sy>y: # intersect at the below line，epoint\n",
    "        return False\n",
    "    if slng<lng and elat<lat: # segment is on the left\n",
    "        return False\n",
    "    #find the intersection point\n",
    "    xseg=elng-(elng-slng)*(elat-lat)/(elat-slat)\n",
    "    if xseg == x:\n",
    "        #print(\"The point is on the side of the polygon\")\n",
    "        return None\n",
    "    if xseg<x: # The intersection point is to the left of the starting point of the ray\n",
    "        return 'Outside'\n",
    "    return 'Inside' \n",
    "\n",
    "def ifin_polygon(poi,vertex_lst, contain_boundary=True): \n",
    "    # check if inside the polygon  \n",
    "    if not ifinrectangular(poi, vertex_lst, contain_boundary):\n",
    "        return 'Outside'\n",
    "    sinsc = 0        \n",
    "    for spoi, epoi in zip(vertex_lst[:-1],vertex_lst[1::]):\n",
    "        intersect = ifintersect(poi, spoi, epoi)\n",
    "        if intersect is None:\n",
    "            return ('Outside', 'Inside')[contain_boundary]\n",
    "        elif intersect:\n",
    "            sinsc+=1   \n",
    "    if sinsc%2==1:         \n",
    "        return 'Inside'\n",
    "    return 'Outside'\n"
   ]
  },
  {
   "cell_type": "code",
   "execution_count": 2,
   "metadata": {},
   "outputs": [
    {
     "data": {
      "text/plain": [
       "((10, 14, 11, 4, 12, 21, 16, 3, 16, 10, 17, 4, 18, 7, 18, 17, 20, 7, 10, 14),\n",
       " (2, 6, 3, 12, 2, 17, 5, 20, 9, 21, 14, 19, 20, 14, 18, 3, 11, 7))"
      ]
     },
     "execution_count": 2,
     "metadata": {},
     "output_type": "execute_result"
    }
   ],
   "source": [
    "import pandas as pd\n",
    "import numpy as np\n",
    "# edit filename extension to be csv and adjust the data\n",
    "df = pd.read_csv('input_question_6_points.csv')\n",
    "df2= pd.read_csv('input_question_6_polygon.csv') \n",
    "k1, k2 = (),()\n",
    "for i, r in df.iterrows():\n",
    "    k1 = k1 + (int(r[0].split(' ')[0]),int(r[0].split(' ')[1]))\n",
    "k1 = k1+k1[:2]\n",
    "for i, r in df2.iterrows():\n",
    "    k2 = k2 + (int(r[0].split(' ')[0]),int(r[0].split(' ')[1]))\n",
    "k1,k2"
   ]
  },
  {
   "cell_type": "code",
   "execution_count": 4,
   "metadata": {},
   "outputs": [
    {
     "name": "stdout",
     "output_type": "stream",
     "text": [
      "[2 6]\n",
      "Outside\n",
      "[ 3 12]\n",
      "Inside\n",
      "[ 2 17]\n",
      "Outside\n",
      "[ 5 20]\n",
      "Inside\n",
      "[ 9 21]\n",
      "Outside\n",
      "[14 19]\n",
      "Inside\n",
      "[20 14]\n",
      "Inside\n",
      "[18  3]\n",
      "Outside\n",
      "[11  7]\n",
      "Outside\n"
     ]
    }
   ],
   "source": [
    "data = open('output_question_6.txt','w+')\n",
    "\n",
    "vertex_lst = np.array(k1).reshape(int(len(k1)/2),2)\n",
    "poi = np.array(k2).reshape(int(len(k2)/2),2)\n",
    "for p in poi:\n",
    "    print(p)\n",
    "    print(ifin_polygon(p,vertex_lst, contain_boundary=True))\n",
    "    print(str(p[0])+' '+str(p[0])+' '+ifin_polygon(p,vertex_lst, contain_boundary=True), file=data)\n",
    "    "
   ]
  },
  {
   "cell_type": "code",
   "execution_count": null,
   "metadata": {},
   "outputs": [],
   "source": []
  }
 ],
 "metadata": {
  "kernelspec": {
   "display_name": "Python 3",
   "language": "python",
   "name": "python3"
  },
  "language_info": {
   "codemirror_mode": {
    "name": "ipython",
    "version": 3
   },
   "file_extension": ".py",
   "mimetype": "text/x-python",
   "name": "python",
   "nbconvert_exporter": "python",
   "pygments_lexer": "ipython3",
   "version": "3.7.3"
  }
 },
 "nbformat": 4,
 "nbformat_minor": 2
}
